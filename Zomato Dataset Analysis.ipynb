{
 "cells": [
  {
   "cell_type": "markdown",
   "id": "a1478198",
   "metadata": {},
   "source": [
    "## EDA : Exploratory Data Analysis\n",
    "Exploratory Data Analysis refers to the critical process of performing initial investigations on data so as to discover patterns,to spot anomalies,to test hypothesis and to check assumptions with the help of summary statistics and graphical representations.\n",
    "____________________________________________________________________________"
   ]
  },
  {
   "cell_type": "markdown",
   "id": "50767fa9",
   "metadata": {},
   "source": [
    "## Zomato EDA\n",
    "Zomato is food delivery company and multinational restaurant aggregator. Zomato Food Delivery service is\n",
    "available in 24 countries and more than 10,000 cities as of 2019. The major objective is to perform Exploratory\n",
    "Data Analysis, Geospatial Analysis and Sentiment analysis using Zomato dataset.\n",
    "_________________________________________________________________________"
   ]
  },
  {
   "cell_type": "markdown",
   "id": "c8391f0d",
   "metadata": {},
   "source": [
    "Importing required modules for data manipulation and visiualization "
   ]
  },
  {
   "cell_type": "code",
   "execution_count": 1,
   "id": "81e3b4d3",
   "metadata": {},
   "outputs": [],
   "source": [
    "import numpy as np\n",
    "import pandas as pd\n",
    "import matplotlib.pyplot as plt\n",
    "import seaborn as sns\n",
    "%matplotlib inline"
   ]
  },
  {
   "cell_type": "markdown",
   "id": "f9afa202",
   "metadata": {},
   "source": [
    "Reading the Zomato dataset"
   ]
  },
  {
   "cell_type": "code",
   "execution_count": 2,
   "id": "47c1d2f3",
   "metadata": {},
   "outputs": [
    {
     "data": {
      "text/html": [
       "<div>\n",
       "<style scoped>\n",
       "    .dataframe tbody tr th:only-of-type {\n",
       "        vertical-align: middle;\n",
       "    }\n",
       "\n",
       "    .dataframe tbody tr th {\n",
       "        vertical-align: top;\n",
       "    }\n",
       "\n",
       "    .dataframe thead th {\n",
       "        text-align: right;\n",
       "    }\n",
       "</style>\n",
       "<table border=\"1\" class=\"dataframe\">\n",
       "  <thead>\n",
       "    <tr style=\"text-align: right;\">\n",
       "      <th></th>\n",
       "      <th>url</th>\n",
       "      <th>address</th>\n",
       "      <th>name</th>\n",
       "      <th>online_order</th>\n",
       "      <th>book_table</th>\n",
       "      <th>rate</th>\n",
       "      <th>votes</th>\n",
       "      <th>phone</th>\n",
       "      <th>location</th>\n",
       "      <th>rest_type</th>\n",
       "      <th>dish_liked</th>\n",
       "      <th>cuisines</th>\n",
       "      <th>approx_cost(for two people)</th>\n",
       "      <th>reviews_list</th>\n",
       "      <th>menu_item</th>\n",
       "      <th>listed_in(type)</th>\n",
       "      <th>listed_in(city)</th>\n",
       "    </tr>\n",
       "  </thead>\n",
       "  <tbody>\n",
       "    <tr>\n",
       "      <th>0</th>\n",
       "      <td>https://www.zomato.com/bangalore/jalsa-banasha...</td>\n",
       "      <td>942, 21st Main Road, 2nd Stage, Banashankari, ...</td>\n",
       "      <td>Jalsa</td>\n",
       "      <td>Yes</td>\n",
       "      <td>Yes</td>\n",
       "      <td>4.1/5</td>\n",
       "      <td>775</td>\n",
       "      <td>080 42297555\\r\\n+91 9743772233</td>\n",
       "      <td>Banashankari</td>\n",
       "      <td>Casual Dining</td>\n",
       "      <td>Pasta, Lunch Buffet, Masala Papad, Paneer Laja...</td>\n",
       "      <td>North Indian, Mughlai, Chinese</td>\n",
       "      <td>800</td>\n",
       "      <td>[('Rated 4.0', 'RATED\\n  A beautiful place to ...</td>\n",
       "      <td>[]</td>\n",
       "      <td>Buffet</td>\n",
       "      <td>Banashankari</td>\n",
       "    </tr>\n",
       "    <tr>\n",
       "      <th>1</th>\n",
       "      <td>https://www.zomato.com/bangalore/spice-elephan...</td>\n",
       "      <td>2nd Floor, 80 Feet Road, Near Big Bazaar, 6th ...</td>\n",
       "      <td>Spice Elephant</td>\n",
       "      <td>Yes</td>\n",
       "      <td>No</td>\n",
       "      <td>4.1/5</td>\n",
       "      <td>787</td>\n",
       "      <td>080 41714161</td>\n",
       "      <td>Banashankari</td>\n",
       "      <td>Casual Dining</td>\n",
       "      <td>Momos, Lunch Buffet, Chocolate Nirvana, Thai G...</td>\n",
       "      <td>Chinese, North Indian, Thai</td>\n",
       "      <td>800</td>\n",
       "      <td>[('Rated 4.0', 'RATED\\n  Had been here for din...</td>\n",
       "      <td>[]</td>\n",
       "      <td>Buffet</td>\n",
       "      <td>Banashankari</td>\n",
       "    </tr>\n",
       "    <tr>\n",
       "      <th>2</th>\n",
       "      <td>https://www.zomato.com/SanchurroBangalore?cont...</td>\n",
       "      <td>1112, Next to KIMS Medical College, 17th Cross...</td>\n",
       "      <td>San Churro Cafe</td>\n",
       "      <td>Yes</td>\n",
       "      <td>No</td>\n",
       "      <td>3.8/5</td>\n",
       "      <td>918</td>\n",
       "      <td>+91 9663487993</td>\n",
       "      <td>Banashankari</td>\n",
       "      <td>Cafe, Casual Dining</td>\n",
       "      <td>Churros, Cannelloni, Minestrone Soup, Hot Choc...</td>\n",
       "      <td>Cafe, Mexican, Italian</td>\n",
       "      <td>800</td>\n",
       "      <td>[('Rated 3.0', \"RATED\\n  Ambience is not that ...</td>\n",
       "      <td>[]</td>\n",
       "      <td>Buffet</td>\n",
       "      <td>Banashankari</td>\n",
       "    </tr>\n",
       "  </tbody>\n",
       "</table>\n",
       "</div>"
      ],
      "text/plain": [
       "                                                 url  \\\n",
       "0  https://www.zomato.com/bangalore/jalsa-banasha...   \n",
       "1  https://www.zomato.com/bangalore/spice-elephan...   \n",
       "2  https://www.zomato.com/SanchurroBangalore?cont...   \n",
       "\n",
       "                                             address             name  \\\n",
       "0  942, 21st Main Road, 2nd Stage, Banashankari, ...            Jalsa   \n",
       "1  2nd Floor, 80 Feet Road, Near Big Bazaar, 6th ...   Spice Elephant   \n",
       "2  1112, Next to KIMS Medical College, 17th Cross...  San Churro Cafe   \n",
       "\n",
       "  online_order book_table   rate  votes                           phone  \\\n",
       "0          Yes        Yes  4.1/5    775  080 42297555\\r\\n+91 9743772233   \n",
       "1          Yes         No  4.1/5    787                    080 41714161   \n",
       "2          Yes         No  3.8/5    918                  +91 9663487993   \n",
       "\n",
       "       location            rest_type  \\\n",
       "0  Banashankari        Casual Dining   \n",
       "1  Banashankari        Casual Dining   \n",
       "2  Banashankari  Cafe, Casual Dining   \n",
       "\n",
       "                                          dish_liked  \\\n",
       "0  Pasta, Lunch Buffet, Masala Papad, Paneer Laja...   \n",
       "1  Momos, Lunch Buffet, Chocolate Nirvana, Thai G...   \n",
       "2  Churros, Cannelloni, Minestrone Soup, Hot Choc...   \n",
       "\n",
       "                         cuisines approx_cost(for two people)  \\\n",
       "0  North Indian, Mughlai, Chinese                         800   \n",
       "1     Chinese, North Indian, Thai                         800   \n",
       "2          Cafe, Mexican, Italian                         800   \n",
       "\n",
       "                                        reviews_list menu_item  \\\n",
       "0  [('Rated 4.0', 'RATED\\n  A beautiful place to ...        []   \n",
       "1  [('Rated 4.0', 'RATED\\n  Had been here for din...        []   \n",
       "2  [('Rated 3.0', \"RATED\\n  Ambience is not that ...        []   \n",
       "\n",
       "  listed_in(type) listed_in(city)  \n",
       "0          Buffet    Banashankari  \n",
       "1          Buffet    Banashankari  \n",
       "2          Buffet    Banashankari  "
      ]
     },
     "execution_count": 2,
     "metadata": {},
     "output_type": "execute_result"
    }
   ],
   "source": [
    "zomato = pd.read_csv(\"zomato.csv\")\n",
    "zomato.head(3)"
   ]
  },
  {
   "cell_type": "markdown",
   "id": "b1fae0a1",
   "metadata": {},
   "source": [
    "### - Data Cleaning "
   ]
  },
  {
   "cell_type": "markdown",
   "id": "f67624e3",
   "metadata": {},
   "source": [
    "#### - Deleting redundant columns.\n",
    "\n",
    "Redundant columns are the columns which do not contribute in analysis of data or column in the spreadsheet table that does not contribute to the semantic meaning of the table.\n",
    "\n",
    "Columns : url , address , reviews_list , listed_in(city) , dish_liked , phone , menu_item are redundant columns"
   ]
  },
  {
   "cell_type": "code",
   "execution_count": 3,
   "id": "d24e789e",
   "metadata": {},
   "outputs": [],
   "source": [
    "zomato.drop([\"url\",\"address\",\"phone\",\"dish_liked\",\"reviews_list\",\"listed_in(city)\",\"menu_item\"],axis=1,inplace=True)"
   ]
  },
  {
   "cell_type": "code",
   "execution_count": 4,
   "id": "e5bb7cd8",
   "metadata": {},
   "outputs": [
    {
     "data": {
      "text/html": [
       "<div>\n",
       "<style scoped>\n",
       "    .dataframe tbody tr th:only-of-type {\n",
       "        vertical-align: middle;\n",
       "    }\n",
       "\n",
       "    .dataframe tbody tr th {\n",
       "        vertical-align: top;\n",
       "    }\n",
       "\n",
       "    .dataframe thead th {\n",
       "        text-align: right;\n",
       "    }\n",
       "</style>\n",
       "<table border=\"1\" class=\"dataframe\">\n",
       "  <thead>\n",
       "    <tr style=\"text-align: right;\">\n",
       "      <th></th>\n",
       "      <th>name</th>\n",
       "      <th>online_order</th>\n",
       "      <th>book_table</th>\n",
       "      <th>rate</th>\n",
       "      <th>votes</th>\n",
       "      <th>location</th>\n",
       "      <th>rest_type</th>\n",
       "      <th>cuisines</th>\n",
       "      <th>approx_cost(for two people)</th>\n",
       "      <th>listed_in(type)</th>\n",
       "    </tr>\n",
       "  </thead>\n",
       "  <tbody>\n",
       "    <tr>\n",
       "      <th>0</th>\n",
       "      <td>Jalsa</td>\n",
       "      <td>Yes</td>\n",
       "      <td>Yes</td>\n",
       "      <td>4.1/5</td>\n",
       "      <td>775</td>\n",
       "      <td>Banashankari</td>\n",
       "      <td>Casual Dining</td>\n",
       "      <td>North Indian, Mughlai, Chinese</td>\n",
       "      <td>800</td>\n",
       "      <td>Buffet</td>\n",
       "    </tr>\n",
       "    <tr>\n",
       "      <th>1</th>\n",
       "      <td>Spice Elephant</td>\n",
       "      <td>Yes</td>\n",
       "      <td>No</td>\n",
       "      <td>4.1/5</td>\n",
       "      <td>787</td>\n",
       "      <td>Banashankari</td>\n",
       "      <td>Casual Dining</td>\n",
       "      <td>Chinese, North Indian, Thai</td>\n",
       "      <td>800</td>\n",
       "      <td>Buffet</td>\n",
       "    </tr>\n",
       "    <tr>\n",
       "      <th>2</th>\n",
       "      <td>San Churro Cafe</td>\n",
       "      <td>Yes</td>\n",
       "      <td>No</td>\n",
       "      <td>3.8/5</td>\n",
       "      <td>918</td>\n",
       "      <td>Banashankari</td>\n",
       "      <td>Cafe, Casual Dining</td>\n",
       "      <td>Cafe, Mexican, Italian</td>\n",
       "      <td>800</td>\n",
       "      <td>Buffet</td>\n",
       "    </tr>\n",
       "  </tbody>\n",
       "</table>\n",
       "</div>"
      ],
      "text/plain": [
       "              name online_order book_table   rate  votes      location  \\\n",
       "0            Jalsa          Yes        Yes  4.1/5    775  Banashankari   \n",
       "1   Spice Elephant          Yes         No  4.1/5    787  Banashankari   \n",
       "2  San Churro Cafe          Yes         No  3.8/5    918  Banashankari   \n",
       "\n",
       "             rest_type                        cuisines  \\\n",
       "0        Casual Dining  North Indian, Mughlai, Chinese   \n",
       "1        Casual Dining     Chinese, North Indian, Thai   \n",
       "2  Cafe, Casual Dining          Cafe, Mexican, Italian   \n",
       "\n",
       "  approx_cost(for two people) listed_in(type)  \n",
       "0                         800          Buffet  \n",
       "1                         800          Buffet  \n",
       "2                         800          Buffet  "
      ]
     },
     "execution_count": 4,
     "metadata": {},
     "output_type": "execute_result"
    }
   ],
   "source": [
    "zomato.head(3)"
   ]
  },
  {
   "cell_type": "markdown",
   "id": "58924eb2",
   "metadata": {},
   "source": [
    "#### - Renaming the columns."
   ]
  },
  {
   "cell_type": "code",
   "execution_count": 5,
   "id": "2b9c7d06",
   "metadata": {},
   "outputs": [
    {
     "data": {
      "text/html": [
       "<div>\n",
       "<style scoped>\n",
       "    .dataframe tbody tr th:only-of-type {\n",
       "        vertical-align: middle;\n",
       "    }\n",
       "\n",
       "    .dataframe tbody tr th {\n",
       "        vertical-align: top;\n",
       "    }\n",
       "\n",
       "    .dataframe thead th {\n",
       "        text-align: right;\n",
       "    }\n",
       "</style>\n",
       "<table border=\"1\" class=\"dataframe\">\n",
       "  <thead>\n",
       "    <tr style=\"text-align: right;\">\n",
       "      <th></th>\n",
       "      <th>Restaurant</th>\n",
       "      <th>Online service</th>\n",
       "      <th>Reservation service</th>\n",
       "      <th>Rating</th>\n",
       "      <th>Votes</th>\n",
       "      <th>Location</th>\n",
       "      <th>Restaurant type</th>\n",
       "      <th>Cuisines</th>\n",
       "      <th>Cost for two</th>\n",
       "      <th>Category</th>\n",
       "    </tr>\n",
       "  </thead>\n",
       "  <tbody>\n",
       "    <tr>\n",
       "      <th>0</th>\n",
       "      <td>Jalsa</td>\n",
       "      <td>Yes</td>\n",
       "      <td>Yes</td>\n",
       "      <td>4.1/5</td>\n",
       "      <td>775</td>\n",
       "      <td>Banashankari</td>\n",
       "      <td>Casual Dining</td>\n",
       "      <td>North Indian, Mughlai, Chinese</td>\n",
       "      <td>800</td>\n",
       "      <td>Buffet</td>\n",
       "    </tr>\n",
       "    <tr>\n",
       "      <th>1</th>\n",
       "      <td>Spice Elephant</td>\n",
       "      <td>Yes</td>\n",
       "      <td>No</td>\n",
       "      <td>4.1/5</td>\n",
       "      <td>787</td>\n",
       "      <td>Banashankari</td>\n",
       "      <td>Casual Dining</td>\n",
       "      <td>Chinese, North Indian, Thai</td>\n",
       "      <td>800</td>\n",
       "      <td>Buffet</td>\n",
       "    </tr>\n",
       "    <tr>\n",
       "      <th>2</th>\n",
       "      <td>San Churro Cafe</td>\n",
       "      <td>Yes</td>\n",
       "      <td>No</td>\n",
       "      <td>3.8/5</td>\n",
       "      <td>918</td>\n",
       "      <td>Banashankari</td>\n",
       "      <td>Cafe, Casual Dining</td>\n",
       "      <td>Cafe, Mexican, Italian</td>\n",
       "      <td>800</td>\n",
       "      <td>Buffet</td>\n",
       "    </tr>\n",
       "  </tbody>\n",
       "</table>\n",
       "</div>"
      ],
      "text/plain": [
       "        Restaurant Online service Reservation service Rating  Votes  \\\n",
       "0            Jalsa            Yes                 Yes  4.1/5    775   \n",
       "1   Spice Elephant            Yes                  No  4.1/5    787   \n",
       "2  San Churro Cafe            Yes                  No  3.8/5    918   \n",
       "\n",
       "       Location      Restaurant type                        Cuisines  \\\n",
       "0  Banashankari        Casual Dining  North Indian, Mughlai, Chinese   \n",
       "1  Banashankari        Casual Dining     Chinese, North Indian, Thai   \n",
       "2  Banashankari  Cafe, Casual Dining          Cafe, Mexican, Italian   \n",
       "\n",
       "  Cost for two Category  \n",
       "0          800   Buffet  \n",
       "1          800   Buffet  \n",
       "2          800   Buffet  "
      ]
     },
     "execution_count": 5,
     "metadata": {},
     "output_type": "execute_result"
    }
   ],
   "source": [
    "zomato.rename(columns={\n",
    "    \"name\":\"Restaurant\",\n",
    "    \"online_order\":\"Online service\",\n",
    "    \"book_table\":\"Reservation service\",\n",
    "    \"rate\":\"Rating\",\n",
    "    \"votes\":\"Votes\",\n",
    "    \"location\":\"Location\",\n",
    "    \"rest_type\":\"Restaurant type\",\n",
    "    \"cuisines\":\"Cuisines\",\n",
    "    \"approx_cost(for two people)\":\"Cost for two\",\n",
    "    \"listed_in(type)\":\"Category\" \n",
    "},inplace=True)\n",
    "zomato.head(3)"
   ]
  },
  {
   "cell_type": "markdown",
   "id": "e8fbe91c",
   "metadata": {},
   "source": [
    "#### - Dropping duplicates"
   ]
  },
  {
   "cell_type": "code",
   "execution_count": 6,
   "id": "dccc2f08",
   "metadata": {},
   "outputs": [
    {
     "data": {
      "text/plain": [
       "False    35011\n",
       "True     16706\n",
       "dtype: int64"
      ]
     },
     "execution_count": 6,
     "metadata": {},
     "output_type": "execute_result"
    }
   ],
   "source": [
    "zomato.duplicated(keep=\"first\").value_counts()"
   ]
  },
  {
   "cell_type": "markdown",
   "id": "95c75f2c",
   "metadata": {},
   "source": [
    "There are 16706 duplicate rows , which should be dropped"
   ]
  },
  {
   "cell_type": "code",
   "execution_count": 7,
   "id": "47f75532",
   "metadata": {},
   "outputs": [],
   "source": [
    "zomato.drop_duplicates(inplace=True)"
   ]
  },
  {
   "cell_type": "code",
   "execution_count": 8,
   "id": "c08652d8",
   "metadata": {},
   "outputs": [
    {
     "data": {
      "text/plain": [
       "False    35011\n",
       "dtype: int64"
      ]
     },
     "execution_count": 8,
     "metadata": {},
     "output_type": "execute_result"
    }
   ],
   "source": [
    "zomato.duplicated().value_counts()"
   ]
  },
  {
   "cell_type": "markdown",
   "id": "6520c750",
   "metadata": {},
   "source": [
    "Thus removed all the duplicate rows from the dataframe"
   ]
  },
  {
   "cell_type": "markdown",
   "id": "f57833cb",
   "metadata": {},
   "source": [
    "#### - Cleaning individual columns."
   ]
  },
  {
   "cell_type": "code",
   "execution_count": 9,
   "id": "6848c2ed",
   "metadata": {},
   "outputs": [
    {
     "data": {
      "text/plain": [
       "Index(['Restaurant', 'Online service', 'Reservation service', 'Rating',\n",
       "       'Votes', 'Location', 'Restaurant type', 'Cuisines', 'Cost for two',\n",
       "       'Category'],\n",
       "      dtype='object')"
      ]
     },
     "execution_count": 9,
     "metadata": {},
     "output_type": "execute_result"
    }
   ],
   "source": [
    "zomato.columns"
   ]
  },
  {
   "cell_type": "markdown",
   "id": "758d73f3",
   "metadata": {},
   "source": [
    "- Restaurant"
   ]
  },
  {
   "cell_type": "code",
   "execution_count": 10,
   "id": "2e77bc96",
   "metadata": {
    "scrolled": true
   },
   "outputs": [],
   "source": [
    "# list(zomato.Restaurant.unique())"
   ]
  },
  {
   "cell_type": "markdown",
   "id": "492cbc5d",
   "metadata": {},
   "source": [
    "As we can see column \"Restuarnt\" contains a garbage value \"CafÃ\\x83Â\\x83Ã\\x82Â\\x83Ã\\x83Â\\x82Ã\\x82Â\\x83Ã\\x83Â\\x83Ã\\x82Â\\x82Ã\\x83Â\\x82Ã\\x82Â©\", so we need to remove it"
   ]
  },
  {
   "cell_type": "code",
   "execution_count": 11,
   "id": "4a286819",
   "metadata": {},
   "outputs": [],
   "source": [
    "zomato.replace(\"CafÃ\\x83Â\\x83Ã\\x82Â\\x83Ã\\x83Â\\x82Ã\\x82Â\\x83Ã\\x83Â\\x83Ã\\x82Â\\x82Ã\\x83Â\\x82Ã\\x82Â©\",\"\",regex=True,inplace=True)\n",
    "# list(zomato.Restaurant.unique())"
   ]
  },
  {
   "cell_type": "markdown",
   "id": "4e36f4f6",
   "metadata": {},
   "source": [
    "Thus we have successfully removed the garbage values from the Restaurant column"
   ]
  },
  {
   "cell_type": "markdown",
   "id": "83770dca",
   "metadata": {},
   "source": [
    "- Online Service"
   ]
  },
  {
   "cell_type": "code",
   "execution_count": 12,
   "id": "878abd31",
   "metadata": {
    "scrolled": false
   },
   "outputs": [
    {
     "data": {
      "text/plain": [
       "False    35011\n",
       "Name: Online service, dtype: int64"
      ]
     },
     "execution_count": 12,
     "metadata": {},
     "output_type": "execute_result"
    }
   ],
   "source": [
    "zomato[\"Online service\"].isnull().value_counts()"
   ]
  },
  {
   "cell_type": "markdown",
   "id": "a1fa1f84",
   "metadata": {},
   "source": [
    "Online  Service column do not contain any null values"
   ]
  },
  {
   "cell_type": "code",
   "execution_count": 13,
   "id": "18066cea",
   "metadata": {
    "scrolled": true
   },
   "outputs": [
    {
     "data": {
      "text/plain": [
       "Yes    20813\n",
       "No     14198\n",
       "Name: Online service, dtype: int64"
      ]
     },
     "execution_count": 13,
     "metadata": {},
     "output_type": "execute_result"
    }
   ],
   "source": [
    "zomato[\"Online service\"].value_counts()"
   ]
  },
  {
   "cell_type": "markdown",
   "id": "99bb66e8",
   "metadata": {},
   "source": [
    "Online Service column contain only two categorical values : 'Yes' and 'No' , thus we do not need to clean this column"
   ]
  },
  {
   "cell_type": "markdown",
   "id": "4acd04b8",
   "metadata": {},
   "source": [
    "- Reservation Service"
   ]
  },
  {
   "cell_type": "code",
   "execution_count": 14,
   "id": "c7eb759f",
   "metadata": {
    "scrolled": true
   },
   "outputs": [
    {
     "data": {
      "text/plain": [
       "False    35011\n",
       "Name: Reservation service, dtype: int64"
      ]
     },
     "execution_count": 14,
     "metadata": {},
     "output_type": "execute_result"
    }
   ],
   "source": [
    "zomato[\"Reservation service\"].isnull().value_counts()"
   ]
  },
  {
   "cell_type": "markdown",
   "id": "f34168aa",
   "metadata": {},
   "source": [
    "Reservation service column do not contain any null values"
   ]
  },
  {
   "cell_type": "code",
   "execution_count": 15,
   "id": "84d63632",
   "metadata": {
    "scrolled": true
   },
   "outputs": [
    {
     "data": {
      "text/plain": [
       "No     29609\n",
       "Yes     5402\n",
       "Name: Reservation service, dtype: int64"
      ]
     },
     "execution_count": 15,
     "metadata": {},
     "output_type": "execute_result"
    }
   ],
   "source": [
    "zomato[\"Reservation service\"].value_counts()"
   ]
  },
  {
   "cell_type": "markdown",
   "id": "540cc790",
   "metadata": {},
   "source": [
    "Reservation service column contain only two categorical values : 'Yes' and 'No' , thus we do not need to clean this column"
   ]
  },
  {
   "cell_type": "markdown",
   "id": "e95ab4e6",
   "metadata": {},
   "source": [
    "- Rating"
   ]
  },
  {
   "cell_type": "code",
   "execution_count": 16,
   "id": "f74361b3",
   "metadata": {
    "scrolled": false
   },
   "outputs": [
    {
     "data": {
      "text/plain": [
       "False    31241\n",
       "True      3770\n",
       "Name: Rating, dtype: int64"
      ]
     },
     "execution_count": 16,
     "metadata": {},
     "output_type": "execute_result"
    }
   ],
   "source": [
    "zomato[\"Rating\"].isnull().value_counts()"
   ]
  },
  {
   "cell_type": "markdown",
   "id": "fca7468b",
   "metadata": {},
   "source": [
    "Rating column contains 3770 null values , which we'll remove afterwards"
   ]
  },
  {
   "cell_type": "code",
   "execution_count": 17,
   "id": "86fde69e",
   "metadata": {
    "scrolled": true
   },
   "outputs": [
    {
     "data": {
      "text/plain": [
       "array(['4.1/5', '3.8/5', '3.7/5', '3.6/5', '4.6/5', '4.0/5', '4.2/5',\n",
       "       '3.9/5', '3.1/5', '3.0/5', '3.2/5', '3.3/5', '2.8/5', '4.4/5',\n",
       "       '4.3/5', 'NEW', '2.9/5', '3.5/5', nan, '2.6/5', '3.8 /5', '3.4/5',\n",
       "       '4.5/5', '2.5/5', '2.7/5', '4.7/5', '2.4/5', '2.2/5', '2.3/5',\n",
       "       '3.4 /5', '-', '3.6 /5', '4.8/5', '3.9 /5', '4.2 /5', '4.0 /5',\n",
       "       '4.1 /5', '3.7 /5', '3.1 /5', '2.9 /5', '3.3 /5', '2.8 /5',\n",
       "       '3.5 /5', '2.7 /5', '2.5 /5', '3.2 /5', '2.6 /5', '4.5 /5',\n",
       "       '4.3 /5', '4.4 /5', '4.9/5', '2.1/5', '2.0/5', '1.8/5', '4.6 /5',\n",
       "       '4.9 /5', '3.0 /5', '4.8 /5', '2.3 /5', '4.7 /5', '2.4 /5',\n",
       "       '2.1 /5', '2.2 /5', '2.0 /5', '1.8 /5'], dtype=object)"
      ]
     },
     "execution_count": 17,
     "metadata": {},
     "output_type": "execute_result"
    }
   ],
   "source": [
    "zomato[\"Rating\"].unique()"
   ]
  },
  {
   "cell_type": "code",
   "execution_count": 18,
   "id": "78fe562c",
   "metadata": {},
   "outputs": [
    {
     "data": {
      "text/plain": [
       "1258"
      ]
     },
     "execution_count": 18,
     "metadata": {},
     "output_type": "execute_result"
    }
   ],
   "source": [
    "list(zomato[\"Rating\"]).count(\"NEW\")"
   ]
  },
  {
   "cell_type": "markdown",
   "id": "0f209574",
   "metadata": {},
   "source": [
    "As we can see Rating columns consists for null values,\"-\",1258 \"NEW\" values other than the required values , thus we need to clean the \"NEW\" and \"-\" values from the Rating column\n",
    "\n",
    "Note: NEW stands for restaurants whose ratings have yet to be defined , possible reasons : Restaurant has just started functioning , Restaurant has just started catching the eyes of people , Rating system or criteria has been just introduced \n",
    "\n",
    "So total 1258 Restaurants fall under this type"
   ]
  },
  {
   "cell_type": "code",
   "execution_count": 19,
   "id": "c3b3f60b",
   "metadata": {},
   "outputs": [],
   "source": [
    "zomato[\"Rating\"].replace({\"NEW|-\":\"0/0\"},regex=True,inplace=True)"
   ]
  },
  {
   "cell_type": "code",
   "execution_count": 20,
   "id": "6e6f22a4",
   "metadata": {
    "scrolled": true
   },
   "outputs": [
    {
     "data": {
      "text/plain": [
       "array(['4.1/5', '3.8/5', '3.7/5', '3.6/5', '4.6/5', '4.0/5', '4.2/5',\n",
       "       '3.9/5', '3.1/5', '3.0/5', '3.2/5', '3.3/5', '2.8/5', '4.4/5',\n",
       "       '4.3/5', '0/0', '2.9/5', '3.5/5', nan, '2.6/5', '3.8 /5', '3.4/5',\n",
       "       '4.5/5', '2.5/5', '2.7/5', '4.7/5', '2.4/5', '2.2/5', '2.3/5',\n",
       "       '3.4 /5', '3.6 /5', '4.8/5', '3.9 /5', '4.2 /5', '4.0 /5',\n",
       "       '4.1 /5', '3.7 /5', '3.1 /5', '2.9 /5', '3.3 /5', '2.8 /5',\n",
       "       '3.5 /5', '2.7 /5', '2.5 /5', '3.2 /5', '2.6 /5', '4.5 /5',\n",
       "       '4.3 /5', '4.4 /5', '4.9/5', '2.1/5', '2.0/5', '1.8/5', '4.6 /5',\n",
       "       '4.9 /5', '3.0 /5', '4.8 /5', '2.3 /5', '4.7 /5', '2.4 /5',\n",
       "       '2.1 /5', '2.2 /5', '2.0 /5', '1.8 /5'], dtype=object)"
      ]
     },
     "execution_count": 20,
     "metadata": {},
     "output_type": "execute_result"
    }
   ],
   "source": [
    "zomato[\"Rating\"].unique()"
   ]
  },
  {
   "cell_type": "markdown",
   "id": "32012857",
   "metadata": {},
   "source": [
    "Here we have replaced the \"NEW\" values and \"-\" values with \"0/0\", since the restaurants may be newly opened , thus their rating is 0\n",
    "\n",
    "Now we need to convert the values of Rating column in numerical format for further processing "
   ]
  },
  {
   "cell_type": "code",
   "execution_count": 21,
   "id": "9bf07182",
   "metadata": {
    "scrolled": true
   },
   "outputs": [
    {
     "data": {
      "text/plain": [
       "0    4.1\n",
       "1    4.1\n",
       "2    3.8\n",
       "Name: Rating, dtype: float64"
      ]
     },
     "execution_count": 21,
     "metadata": {},
     "output_type": "execute_result"
    }
   ],
   "source": [
    "zomato[\"Rating\"]=zomato[\"Rating\"].apply(lambda x:float(str(x).split(\"/\")[0]))\n",
    "zomato[\"Rating\"].head(3)"
   ]
  },
  {
   "cell_type": "markdown",
   "id": "712212c9",
   "metadata": {},
   "source": [
    "Here we gave converted the Rating values to float data type"
   ]
  },
  {
   "cell_type": "markdown",
   "id": "8f5a38f5",
   "metadata": {},
   "source": [
    "- Votes"
   ]
  },
  {
   "cell_type": "code",
   "execution_count": 22,
   "id": "762e7b0c",
   "metadata": {
    "scrolled": true
   },
   "outputs": [
    {
     "data": {
      "text/plain": [
       "False    35011\n",
       "Name: Votes, dtype: int64"
      ]
     },
     "execution_count": 22,
     "metadata": {},
     "output_type": "execute_result"
    }
   ],
   "source": [
    "zomato.Votes.isnull().value_counts()"
   ]
  },
  {
   "cell_type": "markdown",
   "id": "4d99fc11",
   "metadata": {},
   "source": [
    "Votes column do not contain any null values "
   ]
  },
  {
   "cell_type": "code",
   "execution_count": 23,
   "id": "e50e2d41",
   "metadata": {
    "scrolled": true
   },
   "outputs": [
    {
     "data": {
      "text/plain": [
       "0    775\n",
       "1    787\n",
       "2    918\n",
       "Name: Votes, dtype: int64"
      ]
     },
     "execution_count": 23,
     "metadata": {},
     "output_type": "execute_result"
    }
   ],
   "source": [
    "zomato.Votes.head(3)"
   ]
  },
  {
   "cell_type": "markdown",
   "id": "802fa494",
   "metadata": {},
   "source": [
    "The data type is already in required format so we do not need to make any changes or cleaning"
   ]
  },
  {
   "cell_type": "markdown",
   "id": "f84d08e7",
   "metadata": {},
   "source": [
    "- Location"
   ]
  },
  {
   "cell_type": "code",
   "execution_count": 24,
   "id": "58dd8fa8",
   "metadata": {
    "scrolled": true
   },
   "outputs": [
    {
     "data": {
      "text/plain": [
       "False    34997\n",
       "True        14\n",
       "Name: Location, dtype: int64"
      ]
     },
     "execution_count": 24,
     "metadata": {},
     "output_type": "execute_result"
    }
   ],
   "source": [
    "zomato.Location.isnull().value_counts()"
   ]
  },
  {
   "cell_type": "markdown",
   "id": "79878106",
   "metadata": {},
   "source": [
    "Location column consists of 14 null values which we will drop later"
   ]
  },
  {
   "cell_type": "markdown",
   "id": "2eb3e821",
   "metadata": {},
   "source": [
    "- Restaurant type"
   ]
  },
  {
   "cell_type": "code",
   "execution_count": 25,
   "id": "718d0023",
   "metadata": {
    "scrolled": true
   },
   "outputs": [
    {
     "data": {
      "text/plain": [
       "False    34855\n",
       "True       156\n",
       "Name: Restaurant type, dtype: int64"
      ]
     },
     "execution_count": 25,
     "metadata": {},
     "output_type": "execute_result"
    }
   ],
   "source": [
    "zomato[\"Restaurant type\"].isnull().value_counts()"
   ]
  },
  {
   "cell_type": "markdown",
   "id": "1cb365a7",
   "metadata": {},
   "source": [
    "Restaurant type column consists of 156 null values which we will drop later"
   ]
  },
  {
   "cell_type": "code",
   "execution_count": 26,
   "id": "ad7ec9fe",
   "metadata": {
    "scrolled": true
   },
   "outputs": [
    {
     "data": {
      "text/plain": [
       "False    34978\n",
       "True        33\n",
       "Name: Cuisines, dtype: int64"
      ]
     },
     "execution_count": 26,
     "metadata": {},
     "output_type": "execute_result"
    }
   ],
   "source": [
    "zomato[\"Cuisines\"].isnull().value_counts()"
   ]
  },
  {
   "cell_type": "markdown",
   "id": "58541c92",
   "metadata": {},
   "source": [
    "Cuisines column consists of 33 null values which we will drop later"
   ]
  },
  {
   "cell_type": "markdown",
   "id": "71e8bde2",
   "metadata": {},
   "source": [
    "- Cost for two"
   ]
  },
  {
   "cell_type": "code",
   "execution_count": 27,
   "id": "ef0948a5",
   "metadata": {
    "scrolled": true
   },
   "outputs": [
    {
     "data": {
      "text/plain": [
       "False    34790\n",
       "True       221\n",
       "Name: Cost for two, dtype: int64"
      ]
     },
     "execution_count": 27,
     "metadata": {},
     "output_type": "execute_result"
    }
   ],
   "source": [
    "zomato['Cost for two'].isnull().value_counts()"
   ]
  },
  {
   "cell_type": "markdown",
   "id": "fc46b692",
   "metadata": {},
   "source": [
    "'Cost for two' column consists of 221 null values which we will drop later"
   ]
  },
  {
   "cell_type": "code",
   "execution_count": 28,
   "id": "25280996",
   "metadata": {
    "scrolled": true
   },
   "outputs": [
    {
     "data": {
      "text/plain": [
       "array(['800', '300', '600', '700', '550', '500', '450', '650', '400',\n",
       "       '900', '200', '750', '150', '850', '100', '1,200', '350', '250',\n",
       "       '950', '1,000', '1,500', '1,300', '199', '80', '1,100', '160',\n",
       "       '1,600', '230', '130', '50', '190', '1,700', nan, '1,400', '180',\n",
       "       '1,350', '2,200', '2,000', '1,800', '1,900', '330', '2,500',\n",
       "       '2,100', '3,000', '2,800', '3,400', '40', '1,250', '3,500',\n",
       "       '4,000', '2,400', '2,600', '120', '1,450', '469', '70', '3,200',\n",
       "       '60', '560', '240', '360', '6,000', '1,050', '2,300', '4,100',\n",
       "       '5,000', '3,700', '1,650', '2,700', '4,500', '140'], dtype=object)"
      ]
     },
     "execution_count": 28,
     "metadata": {},
     "output_type": "execute_result"
    }
   ],
   "source": [
    "zomato['Cost for two'].unique()"
   ]
  },
  {
   "cell_type": "markdown",
   "id": "956a4372",
   "metadata": {},
   "source": [
    "Here we need to convert the values into numerical format for which we need to remove the comas from the values and then convert to floats"
   ]
  },
  {
   "cell_type": "code",
   "execution_count": 29,
   "id": "fba9bfc8",
   "metadata": {},
   "outputs": [
    {
     "data": {
      "text/plain": [
       "0    800.0\n",
       "1    800.0\n",
       "2    800.0\n",
       "Name: Cost for two, dtype: float64"
      ]
     },
     "execution_count": 29,
     "metadata": {},
     "output_type": "execute_result"
    }
   ],
   "source": [
    "zomato[\"Cost for two\"]=zomato['Cost for two'].apply(lambda x:float(\"\".join(str(x).split(\",\"))))\n",
    "zomato[\"Cost for two\"].head(3)"
   ]
  },
  {
   "cell_type": "markdown",
   "id": "7daf7c4c",
   "metadata": {},
   "source": [
    "Here we gave converted the \"Cost for two\" values to required format and float data type"
   ]
  },
  {
   "cell_type": "markdown",
   "id": "3773561a",
   "metadata": {},
   "source": [
    "- Category"
   ]
  },
  {
   "cell_type": "code",
   "execution_count": 30,
   "id": "696bcc15",
   "metadata": {
    "scrolled": true
   },
   "outputs": [
    {
     "data": {
      "text/plain": [
       "False    35011\n",
       "Name: Category, dtype: int64"
      ]
     },
     "execution_count": 30,
     "metadata": {},
     "output_type": "execute_result"
    }
   ],
   "source": [
    "zomato.Category.isnull().value_counts()"
   ]
  },
  {
   "cell_type": "markdown",
   "id": "19b84247",
   "metadata": {},
   "source": [
    "Online Service column do not contain any null values"
   ]
  },
  {
   "cell_type": "code",
   "execution_count": 31,
   "id": "2a71ee78",
   "metadata": {
    "scrolled": true
   },
   "outputs": [
    {
     "data": {
      "text/plain": [
       "Delivery              16169\n",
       "Dine-out              12929\n",
       "Desserts               2476\n",
       "Cafes                  1249\n",
       "Drinks & nightlife      909\n",
       "Buffet                  674\n",
       "Pubs and bars           605\n",
       "Name: Category, dtype: int64"
      ]
     },
     "execution_count": 31,
     "metadata": {},
     "output_type": "execute_result"
    }
   ],
   "source": [
    "zomato.Category.value_counts()"
   ]
  },
  {
   "cell_type": "markdown",
   "id": "7e543488",
   "metadata": {},
   "source": [
    "Category columns are in required categorical format does we do not need to make any changes in the column"
   ]
  },
  {
   "cell_type": "markdown",
   "id": "947429d6",
   "metadata": {},
   "source": [
    "#### - Removing NaN values from the dataset"
   ]
  },
  {
   "cell_type": "code",
   "execution_count": 32,
   "id": "e09339d7",
   "metadata": {
    "scrolled": true
   },
   "outputs": [
    {
     "name": "stdout",
     "output_type": "stream",
     "text": [
      "Restaurant                0\n",
      "Online service            0\n",
      "Reservation service       0\n",
      "Rating                 3770\n",
      "Votes                     0\n",
      "Location                 14\n",
      "Restaurant type         156\n",
      "Cuisines                 33\n",
      "Cost for two            221\n",
      "Category                  0\n",
      "dtype: int64\n",
      "\n",
      "Total null values :  4194\n"
     ]
    }
   ],
   "source": [
    "print(zomato.isnull().sum())\n",
    "print(\"\\nTotal null values : \",zomato.isnull().sum().sum())"
   ]
  },
  {
   "cell_type": "markdown",
   "id": "8a6b4f74",
   "metadata": {},
   "source": [
    "Here columns Rating,Location,Restaurant type,Cuisines,Cost for two contain null values , all together there are 4194 null values which we need to drop"
   ]
  },
  {
   "cell_type": "code",
   "execution_count": 33,
   "id": "b1d9434c",
   "metadata": {
    "scrolled": false
   },
   "outputs": [],
   "source": [
    "zomato=zomato.dropna()"
   ]
  },
  {
   "cell_type": "code",
   "execution_count": 34,
   "id": "9391931d",
   "metadata": {
    "scrolled": false
   },
   "outputs": [
    {
     "data": {
      "text/plain": [
       "Restaurant             0\n",
       "Online service         0\n",
       "Reservation service    0\n",
       "Rating                 0\n",
       "Votes                  0\n",
       "Location               0\n",
       "Restaurant type        0\n",
       "Cuisines               0\n",
       "Cost for two           0\n",
       "Category               0\n",
       "dtype: int64"
      ]
     },
     "execution_count": 34,
     "metadata": {},
     "output_type": "execute_result"
    }
   ],
   "source": [
    "zomato.isnull().sum()"
   ]
  },
  {
   "cell_type": "markdown",
   "id": "673c86c5",
   "metadata": {},
   "source": [
    "Here we have successfully dropped all the null columns from the dataset"
   ]
  },
  {
   "cell_type": "markdown",
   "id": "4ac74c8d",
   "metadata": {},
   "source": [
    "#### - Some more transformations"
   ]
  },
  {
   "cell_type": "markdown",
   "id": "2e776d22",
   "metadata": {},
   "source": [
    "Depending upon the cost for two people we will classify the restaurants in categories like Very low, Low, Moderate, High ,Very high"
   ]
  },
  {
   "cell_type": "code",
   "execution_count": 35,
   "id": "a74c733d",
   "metadata": {},
   "outputs": [
    {
     "name": "stdout",
     "output_type": "stream",
     "text": [
      "Minimum cost :  40.0 \n",
      "Maximum cost :  6000.0\n"
     ]
    }
   ],
   "source": [
    "print(\"Minimum cost : \",zomato[\"Cost for two\"].min(),\"\\nMaximum cost : \",zomato[\"Cost for two\"].max())"
   ]
  },
  {
   "cell_type": "code",
   "execution_count": 36,
   "id": "ab23a2a5",
   "metadata": {},
   "outputs": [
    {
     "data": {
      "text/plain": [
       "array([  40., 1530., 3020., 4510., 6000.])"
      ]
     },
     "execution_count": 36,
     "metadata": {},
     "output_type": "execute_result"
    }
   ],
   "source": [
    "np.linspace(40,6000,5)"
   ]
  },
  {
   "cell_type": "markdown",
   "id": "28e99982",
   "metadata": {},
   "source": [
    "Criteria for splitting in the above cell"
   ]
  },
  {
   "cell_type": "code",
   "execution_count": 37,
   "id": "3fffa508",
   "metadata": {},
   "outputs": [
    {
     "data": {
      "text/plain": [
       "Low          29526\n",
       "Moderate      1370\n",
       "High            59\n",
       "Very high        3\n",
       "Name: Price level, dtype: int64"
      ]
     },
     "execution_count": 37,
     "metadata": {},
     "output_type": "execute_result"
    }
   ],
   "source": [
    "zomato[\"Price level\"]=\"x\"\n",
    "zomato.loc[(zomato[\"Cost for two\"]>=40)&(zomato[\"Cost for two\"]<=1530),\"Price level\"]=\"Low\"\n",
    "zomato.loc[(zomato[\"Cost for two\"]>1530)&(zomato[\"Cost for two\"]<=3020),\"Price level\"]=\"Moderate\"\n",
    "zomato.loc[(zomato[\"Cost for two\"]>3020)&(zomato[\"Cost for two\"]<=4510),\"Price level\"]=\"High\"\n",
    "zomato.loc[(zomato[\"Cost for two\"]>4510),\"Price level\"]=\"Very high\"\n",
    "zomato[\"Price level\"].value_counts()"
   ]
  },
  {
   "cell_type": "markdown",
   "id": "90ed9a1a",
   "metadata": {},
   "source": [
    "### - Data Visualization "
   ]
  },
  {
   "cell_type": "code",
   "execution_count": 38,
   "id": "3bb61b62",
   "metadata": {
    "scrolled": true
   },
   "outputs": [
    {
     "data": {
      "text/html": [
       "<div>\n",
       "<style scoped>\n",
       "    .dataframe tbody tr th:only-of-type {\n",
       "        vertical-align: middle;\n",
       "    }\n",
       "\n",
       "    .dataframe tbody tr th {\n",
       "        vertical-align: top;\n",
       "    }\n",
       "\n",
       "    .dataframe thead th {\n",
       "        text-align: right;\n",
       "    }\n",
       "</style>\n",
       "<table border=\"1\" class=\"dataframe\">\n",
       "  <thead>\n",
       "    <tr style=\"text-align: right;\">\n",
       "      <th></th>\n",
       "      <th>Restaurant</th>\n",
       "      <th>Online service</th>\n",
       "      <th>Reservation service</th>\n",
       "      <th>Rating</th>\n",
       "      <th>Votes</th>\n",
       "      <th>Location</th>\n",
       "      <th>Restaurant type</th>\n",
       "      <th>Cuisines</th>\n",
       "      <th>Cost for two</th>\n",
       "      <th>Category</th>\n",
       "      <th>Price level</th>\n",
       "    </tr>\n",
       "  </thead>\n",
       "  <tbody>\n",
       "    <tr>\n",
       "      <th>0</th>\n",
       "      <td>Jalsa</td>\n",
       "      <td>Yes</td>\n",
       "      <td>Yes</td>\n",
       "      <td>4.1</td>\n",
       "      <td>775</td>\n",
       "      <td>Banashankari</td>\n",
       "      <td>Casual Dining</td>\n",
       "      <td>North Indian, Mughlai, Chinese</td>\n",
       "      <td>800.0</td>\n",
       "      <td>Buffet</td>\n",
       "      <td>Low</td>\n",
       "    </tr>\n",
       "    <tr>\n",
       "      <th>1</th>\n",
       "      <td>Spice Elephant</td>\n",
       "      <td>Yes</td>\n",
       "      <td>No</td>\n",
       "      <td>4.1</td>\n",
       "      <td>787</td>\n",
       "      <td>Banashankari</td>\n",
       "      <td>Casual Dining</td>\n",
       "      <td>Chinese, North Indian, Thai</td>\n",
       "      <td>800.0</td>\n",
       "      <td>Buffet</td>\n",
       "      <td>Low</td>\n",
       "    </tr>\n",
       "    <tr>\n",
       "      <th>2</th>\n",
       "      <td>San Churro Cafe</td>\n",
       "      <td>Yes</td>\n",
       "      <td>No</td>\n",
       "      <td>3.8</td>\n",
       "      <td>918</td>\n",
       "      <td>Banashankari</td>\n",
       "      <td>Cafe, Casual Dining</td>\n",
       "      <td>Cafe, Mexican, Italian</td>\n",
       "      <td>800.0</td>\n",
       "      <td>Buffet</td>\n",
       "      <td>Low</td>\n",
       "    </tr>\n",
       "    <tr>\n",
       "      <th>3</th>\n",
       "      <td>Addhuri Udupi Bhojana</td>\n",
       "      <td>No</td>\n",
       "      <td>No</td>\n",
       "      <td>3.7</td>\n",
       "      <td>88</td>\n",
       "      <td>Banashankari</td>\n",
       "      <td>Quick Bites</td>\n",
       "      <td>South Indian, North Indian</td>\n",
       "      <td>300.0</td>\n",
       "      <td>Buffet</td>\n",
       "      <td>Low</td>\n",
       "    </tr>\n",
       "  </tbody>\n",
       "</table>\n",
       "</div>"
      ],
      "text/plain": [
       "              Restaurant Online service Reservation service  Rating  Votes  \\\n",
       "0                  Jalsa            Yes                 Yes     4.1    775   \n",
       "1         Spice Elephant            Yes                  No     4.1    787   \n",
       "2        San Churro Cafe            Yes                  No     3.8    918   \n",
       "3  Addhuri Udupi Bhojana             No                  No     3.7     88   \n",
       "\n",
       "       Location      Restaurant type                        Cuisines  \\\n",
       "0  Banashankari        Casual Dining  North Indian, Mughlai, Chinese   \n",
       "1  Banashankari        Casual Dining     Chinese, North Indian, Thai   \n",
       "2  Banashankari  Cafe, Casual Dining          Cafe, Mexican, Italian   \n",
       "3  Banashankari          Quick Bites      South Indian, North Indian   \n",
       "\n",
       "   Cost for two Category Price level  \n",
       "0         800.0   Buffet         Low  \n",
       "1         800.0   Buffet         Low  \n",
       "2         800.0   Buffet         Low  \n",
       "3         300.0   Buffet         Low  "
      ]
     },
     "execution_count": 38,
     "metadata": {},
     "output_type": "execute_result"
    }
   ],
   "source": [
    "zomato.head(4)"
   ]
  },
  {
   "cell_type": "code",
   "execution_count": 39,
   "id": "ea316ced",
   "metadata": {
    "scrolled": false
   },
   "outputs": [
    {
     "data": {
      "text/plain": [
       "<AxesSubplot:xlabel='Online service', ylabel='count'>"
      ]
     },
     "execution_count": 39,
     "metadata": {},
     "output_type": "execute_result"
    },
    {
     "data": {
      "image/png": "[encoded data removed]",
      "text/plain": [
       "<Figure size 432x288 with 1 Axes>"
      ]
     },
     "metadata": {
      "needs_background": "light"
     },
     "output_type": "display_data"
    }
   ],
   "source": [
    "sns.countplot(x=\"Online service\",data=zomato)"
   ]
  },
  {
   "cell_type": "markdown",
   "id": "5595ae48",
   "metadata": {},
   "source": [
    "Here we can infer that the number of restaurants providing online service is more than that of restaurants which do not, with the digitalization of society it is obvious that most of the businesses have adapted digital means for business.  \n",
    "\n",
    "There still exists restaurants who do not offer online services, reasons may be financial, geographical, lack of facilities, etc. "
   ]
  },
  {
   "cell_type": "code",
   "execution_count": 40,
   "id": "182969ac",
   "metadata": {
    "scrolled": true
   },
   "outputs": [
    {
     "data": {
      "text/plain": [
       "<AxesSubplot:xlabel='Online service', ylabel='Rating'>"
      ]
     },
     "execution_count": 40,
     "metadata": {},
     "output_type": "execute_result"
    },
    {
     "data": {
      "image/png": "[encoded data removed]",
      "text/plain": [
       "<Figure size 432x288 with 1 Axes>"
      ]
     },
     "metadata": {
      "needs_background": "light"
     },
     "output_type": "display_data"
    }
   ],
   "source": [
    "sns.barplot(x='Online service',y=\"Rating\",data=zomato)"
   ]
  },
  {
   "cell_type": "markdown",
   "id": "31dc6879",
   "metadata": {},
   "source": [
    "Here we can infer that Rating of the restaurtants who offer online services have higher ratings as compared to restaurants which do not "
   ]
  },
  {
   "cell_type": "code",
   "execution_count": 41,
   "id": "d570fa49",
   "metadata": {
    "scrolled": true
   },
   "outputs": [
    {
     "data": {
      "text/plain": [
       "<AxesSubplot:xlabel='Reservation service', ylabel='count'>"
      ]
     },
     "execution_count": 41,
     "metadata": {},
     "output_type": "execute_result"
    },
    {
     "data": {
      "image/png": "[encoded data removed]",
      "text/plain": [
       "<Figure size 432x288 with 1 Axes>"
      ]
     },
     "metadata": {
      "needs_background": "light"
     },
     "output_type": "display_data"
    }
   ],
   "source": [
    "sns.countplot(x=\"Reservation service\",data=zomato)"
   ]
  },
  {
   "cell_type": "markdown",
   "id": "3284b5e9",
   "metadata": {},
   "source": [
    "Here we can infer that hotels providing reservation services are lesser in number as compared to those which do not"
   ]
  },
  {
   "cell_type": "code",
   "execution_count": 42,
   "id": "ee981c27",
   "metadata": {
    "scrolled": false
   },
   "outputs": [
    {
     "data": {
      "text/plain": [
       "<AxesSubplot:xlabel='Reservation service', ylabel='Rating'>"
      ]
     },
     "execution_count": 42,
     "metadata": {},
     "output_type": "execute_result"
    },
    {
     "data": {
      "image/png": "[encoded data removed]",
      "text/plain": [
       "<Figure size 432x288 with 1 Axes>"
      ]
     },
     "metadata": {
      "needs_background": "light"
     },
     "output_type": "display_data"
    }
   ],
   "source": [
    "sns.barplot(x=\"Reservation service\",y=\"Rating\",data=zomato)"
   ]
  },
  {
   "cell_type": "markdown",
   "id": "643ea6b6",
   "metadata": {},
   "source": [
    "Here we can infer that hotels providing reservation services have higher ratings than the hotels which do not."
   ]
  },
  {
   "cell_type": "code",
   "execution_count": 43,
   "id": "17115d0a",
   "metadata": {
    "scrolled": true
   },
   "outputs": [
    {
     "data": {
      "text/plain": [
       "<AxesSubplot:xlabel='Location'>"
      ]
     },
     "execution_count": 43,
     "metadata": {},
     "output_type": "execute_result"
    },
    {
     "data": {
      "image/png": "[encoded data removed]",
      "text/plain": [
       "<Figure size 720x360 with 1 Axes>"
      ]
     },
     "metadata": {
      "needs_background": "light"
     },
     "output_type": "display_data"
    }
   ],
   "source": [
    "(zomato.groupby([\"Location\"])['Rating'].mean()).nlargest(5).plot(kind=\"line\",figsize=(10,5))"
   ]
  },
  {
   "cell_type": "markdown",
   "id": "ca84b74e",
   "metadata": {},
   "source": [
    "Here we can infer that location \"Lavelle Road\" is the best location for providing food service"
   ]
  },
  {
   "cell_type": "code",
   "execution_count": 44,
   "id": "2fd2ec28",
   "metadata": {
    "scrolled": true
   },
   "outputs": [
    {
     "data": {
      "text/plain": [
       "<AxesSubplot:xlabel='Location'>"
      ]
     },
     "execution_count": 44,
     "metadata": {},
     "output_type": "execute_result"
    },
    {
     "data": {
      "image/png": "[encoded data removed]",
      "text/plain": [
       "<Figure size 1152x360 with 1 Axes>"
      ]
     },
     "metadata": {
      "needs_background": "light"
     },
     "output_type": "display_data"
    }
   ],
   "source": [
    "a = zomato.groupby(\"Location\")[\"Rating\"].mean().head(15)\n",
    "a.plot(kind=\"line\",figsize=(16,5))"
   ]
  },
  {
   "cell_type": "markdown",
   "id": "0395bda0",
   "metadata": {},
   "source": [
    "Here we can infer that Restaurants at locations BTM, Banaswadi, Basavanagudi, Belandur, CV Raman Nagar, Commmercail Street have near about similar ratings in the range of 3.3 to 3.5 and Church Street has the highest rating followed by Brigade road."
   ]
  },
  {
   "cell_type": "code",
   "execution_count": 45,
   "id": "33007753",
   "metadata": {
    "scrolled": true
   },
   "outputs": [
    {
     "data": {
      "text/plain": [
       "<AxesSubplot:xlabel='count', ylabel='Category'>"
      ]
     },
     "execution_count": 45,
     "metadata": {},
     "output_type": "execute_result"
    },
    {
     "data": {
      "image/png": "[encoded data removed]",
      "text/plain": [
       "<Figure size 432x288 with 1 Axes>"
      ]
     },
     "metadata": {
      "needs_background": "light"
     },
     "output_type": "display_data"
    }
   ],
   "source": [
    "sns.countplot(y=\"Category\",data=zomato)"
   ]
  },
  {
   "cell_type": "markdown",
   "id": "b5a1c14b",
   "metadata": {},
   "source": [
    "Here we can infer that restaurants of delivery category are abundant followed by Dine-out and lowest being the buffet and Pubs"
   ]
  },
  {
   "cell_type": "code",
   "execution_count": 46,
   "id": "bab3d09b",
   "metadata": {},
   "outputs": [
    {
     "data": {
      "text/plain": [
       "<AxesSubplot:xlabel='Restaurant type'>"
      ]
     },
     "execution_count": 46,
     "metadata": {},
     "output_type": "execute_result"
    },
    {
     "data": {
      "image/png": "[encoded data removed]",
      "text/plain": [
       "<Figure size 1152x360 with 1 Axes>"
      ]
     },
     "metadata": {
      "needs_background": "light"
     },
     "output_type": "display_data"
    }
   ],
   "source": [
    "(zomato.groupby(\"Restaurant type\")[\"Rating\"].mean().head(15)).plot(kind=\"line\",figsize=(16,5))"
   ]
  },
  {
   "cell_type": "code",
   "execution_count": 47,
   "id": "b11534e9",
   "metadata": {},
   "outputs": [
    {
     "data": {
      "text/plain": [
       "<AxesSubplot:xlabel='Cost for two', ylabel='Restaurant'>"
      ]
     },
     "execution_count": 47,
     "metadata": {},
     "output_type": "execute_result"
    },
    {
     "data": {
      "image/png": "[encoded data removed]",
      "text/plain": [
       "<Figure size 432x288 with 1 Axes>"
      ]
     },
     "metadata": {
      "needs_background": "light"
     },
     "output_type": "display_data"
    }
   ],
   "source": [
    "sns.barplot(x=\"Cost for two\",y=\"Restaurant\",data=zomato[[\"Restaurant\",\"Cost for two\"]].nlargest(15,\"Cost for two\"))"
   ]
  },
  {
   "cell_type": "markdown",
   "id": "d1268c3d",
   "metadata": {},
   "source": [
    "Here we can infer that Le Cirque Signature-The Leela Palace is the costliest restaurants followed by Royal Afghan-ITC Windsor"
   ]
  },
  {
   "cell_type": "code",
   "execution_count": 48,
   "id": "52cf0932",
   "metadata": {
    "scrolled": true
   },
   "outputs": [
    {
     "data": {
      "text/plain": [
       "<AxesSubplot:ylabel='Location'>"
      ]
     },
     "execution_count": 48,
     "metadata": {},
     "output_type": "execute_result"
    },
    {
     "data": {
      "image/png": "[encoded data removed]",
      "text/plain": [
       "<Figure size 720x360 with 1 Axes>"
      ]
     },
     "metadata": {
      "needs_background": "light"
     },
     "output_type": "display_data"
    }
   ],
   "source": [
    "(zomato.groupby(\"Location\")[\"Location\"].count().nlargest(10)).plot(kind=\"barh\",color=\"red\",figsize=(10,5))"
   ]
  },
  {
   "cell_type": "markdown",
   "id": "d8628888",
   "metadata": {},
   "source": [
    "Here we can infer that the location BTM consists maximum number of restaurants followed by Indiranagar"
   ]
  },
  {
   "cell_type": "code",
   "execution_count": 49,
   "id": "47e26b83",
   "metadata": {
    "scrolled": false
   },
   "outputs": [
    {
     "data": {
      "text/plain": [
       "<AxesSubplot:>"
      ]
     },
     "execution_count": 49,
     "metadata": {},
     "output_type": "execute_result"
    },
    {
     "data": {
      "image/png": "[encoded data removed]",
      "text/plain": [
       "<Figure size 1152x360 with 1 Axes>"
      ]
     },
     "metadata": {
      "needs_background": "light"
     },
     "output_type": "display_data"
    }
   ],
   "source": [
    "(zomato[\"Restaurant type\"].value_counts().head(6)).plot(kind=\"line\",figsize=(16,5))"
   ]
  },
  {
   "cell_type": "markdown",
   "id": "aa6b877a",
   "metadata": {},
   "source": [
    "Here we can infer that restaurants of type Quick bites are abundant followed by casual dining"
   ]
  },
  {
   "cell_type": "code",
   "execution_count": 50,
   "id": "d59e5b27",
   "metadata": {
    "scrolled": false
   },
   "outputs": [
    {
     "data": {
      "text/plain": [
       "<seaborn.axisgrid.JointGrid at 0x25793eef280>"
      ]
     },
     "execution_count": 50,
     "metadata": {},
     "output_type": "execute_result"
    },
    {
     "data": {
      "image/png": "[encoded data removed]",
      "text/plain": [
       "<Figure size 648x648 with 3 Axes>"
      ]
     },
     "metadata": {
      "needs_background": "light"
     },
     "output_type": "display_data"
    }
   ],
   "source": [
    "sns.jointplot(x=\"Rating\",y=\"Votes\",data=zomato,kind=\"reg\",color=\"green\",height=9)"
   ]
  },
  {
   "cell_type": "markdown",
   "id": "6fb4daf9",
   "metadata": {},
   "source": [
    "Here we can infer that votes are directly proportional to rating and vice-versa , votes increase as rating increases as well as restaurants having rating between 4 to 5 recieve wide range of votes, dominant being the range 0 to 5000."
   ]
  },
  {
   "cell_type": "code",
   "execution_count": 51,
   "id": "d8645722",
   "metadata": {
    "scrolled": false
   },
   "outputs": [
    {
     "data": {
      "text/plain": [
       "<AxesSubplot:xlabel='Price level', ylabel='count'>"
      ]
     },
     "execution_count": 51,
     "metadata": {},
     "output_type": "execute_result"
    },
    {
     "data": {
      "image/png": "[encoded data removed]",
      "text/plain": [
       "<Figure size 432x288 with 1 Axes>"
      ]
     },
     "metadata": {
      "needs_background": "light"
     },
     "output_type": "display_data"
    }
   ],
   "source": [
    "sns.countplot(x=\"Price level\",data=zomato)"
   ]
  },
  {
   "cell_type": "markdown",
   "id": "a11b938c",
   "metadata": {},
   "source": [
    "Here we can infer that restaurants with low prices are abundant whereas there are very less number of costly restaurants"
   ]
  },
  {
   "cell_type": "code",
   "execution_count": 52,
   "id": "be14fba2",
   "metadata": {},
   "outputs": [
    {
     "data": {
      "text/plain": [
       "<AxesSubplot:xlabel='Price level', ylabel='Votes'>"
      ]
     },
     "execution_count": 52,
     "metadata": {},
     "output_type": "execute_result"
    },
    {
     "data": {
      "image/png": "[encoded data removed]",
      "text/plain": [
       "<Figure size 1008x432 with 2 Axes>"
      ]
     },
     "metadata": {
      "needs_background": "light"
     },
     "output_type": "display_data"
    }
   ],
   "source": [
    "plt.figure(figsize=(14,6))\n",
    "sns.lineplot(x=\"Price level\",y=\"Rating\",data=zomato,ax=plt.subplot(1,2,1))\n",
    "sns.lineplot(x=\"Price level\",y=\"Votes\",data=zomato,ax=plt.subplot(1,2,2))"
   ]
  },
  {
   "cell_type": "markdown",
   "id": "434f6b6d",
   "metadata": {},
   "source": [
    "Here we can infer that as price of restaurants increase , ratings increase as well also restaurants with moderate price range recieve maximum votes and restaurants with high price range recieve less votes, There might be multiple reasons for that\n",
    "- Since the number of costly reastaurants is less , people going there are going to be less and there are high chances of those people to give a good feedback thus keeping the rating high coz of few people who rated them good\n",
    "- Restaurants might be worth the money , most of the people went there rated them well.\n",
    "- Restaurants with low pricing serve a lot of people , thus is rated by large number of people, here ratings may vary from 1 to 5 depending upon the customer satisfaction.\n"
   ]
  },
  {
   "cell_type": "code",
   "execution_count": 53,
   "id": "f097a45e",
   "metadata": {
    "scrolled": true
   },
   "outputs": [
    {
     "data": {
      "text/plain": [
       "<AxesSubplot:xlabel='Category', ylabel='Rating'>"
      ]
     },
     "execution_count": 53,
     "metadata": {},
     "output_type": "execute_result"
    },
    {
     "data": {
      "image/png": "[encoded data removed]",
      "text/plain": [
       "<Figure size 1008x432 with 1 Axes>"
      ]
     },
     "metadata": {
      "needs_background": "light"
     },
     "output_type": "display_data"
    }
   ],
   "source": [
    "plt.figure(figsize=(14,6))\n",
    "s=pd.DataFrame(zomato.groupby([\"Category\",\"Price level\"])[\"Rating\"].mean()).reset_index()\n",
    "sns.barplot(data=s,x='Category',y='Rating',hue='Price level')"
   ]
  },
  {
   "cell_type": "markdown",
   "id": "1d137362",
   "metadata": {},
   "source": [
    "Here we can infer the following\n",
    "- Only restaurants offering Dine-out service contain very high price range along with other price ranges\n",
    "- Cafes,Delivery,Desserts conatain low to moderate price range \n",
    "- Buffet, Drinks&nightlife, Pubs and bars providing restaurants offer good food in low price range \n",
    "- Delivery providing restaurants offer good food in moderate price range\n",
    "- Buffet providing restaurants offer good food in high price range\n",
    "- Dine-out providing restaurants are costly "
   ]
  },
  {
   "cell_type": "markdown",
   "id": "f246a60e",
   "metadata": {},
   "source": [
    "## Conclusions"
   ]
  },
  {
   "cell_type": "markdown",
   "id": "68ef626c",
   "metadata": {},
   "source": [
    "#### 1.) 1258 restaurants have been newly developed \n",
    "\n",
    "#### 2.) For restaurants to increase their profit rate , they need to provide online servies as well as table reservation services to the customers\n",
    "\n",
    "#### 3.) Delivery service is one of the major services to gain the attention of customers, thus restaurants need to provide delivery service "
   ]
  },
  {
   "cell_type": "code",
   "execution_count": null,
   "id": "e01e857c",
   "metadata": {},
   "outputs": [],
   "source": []
  }
 ],
 "metadata": {
  "kernelspec": {
   "display_name": "Python 3 (ipykernel)",
   "language": "python",
   "name": "python3"
  },
  "language_info": {
   "codemirror_mode": {
    "name": "ipython",
    "version": 3
   },
   "file_extension": ".py",
   "mimetype": "text/x-python",
   "name": "python",
   "nbconvert_exporter": "python",
   "pygments_lexer": "ipython3",
   "version": "3.10.0"
  }
 },
 "nbformat": 4,
 "nbformat_minor": 5
}
